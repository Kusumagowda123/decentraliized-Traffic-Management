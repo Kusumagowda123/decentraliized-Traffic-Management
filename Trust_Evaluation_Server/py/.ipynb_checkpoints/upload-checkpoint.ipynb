{
 "cells": [
  {
   "cell_type": "code",
   "execution_count": 1,
   "metadata": {},
   "outputs": [
    {
     "name": "stdout",
     "output_type": "stream",
     "text": [
      "True\n"
     ]
    }
   ],
   "source": [
    "\n",
    "import os\n",
    "from pathlib import Path\n",
    "from web3 import Web3\n",
    "import json\n",
    "\n",
    "\n",
    "url = \"http://localhost:7545\"\n",
    "web3 = Web3(Web3.HTTPProvider(url))\n",
    "print(web3.isConnected())\n",
    "web3.eth.defaultAccount = web3.eth.accounts[0]\n",
    "address=web3.toChecksumAddress('0x4Dc9C58eB6633eec847BD7535509c1dd510963d6')\n",
    "abi = json.loads('[{\"constant\":true,\"inputs\":[],\"name\":\"get_data\",\"outputs\":[{\"name\":\"\",\"type\":\"string\"}],\"payable\":false,\"stateMutability\":\"view\",\"type\":\"function\"},{\"constant\":false,\"inputs\":[{\"name\":\"_name\",\"type\":\"string\"}],\"name\":\"set_data\",\"outputs\":[],\"payable\":false,\"stateMutability\":\"nonpayable\",\"type\":\"function\"},{\"constant\":true,\"inputs\":[],\"name\":\"data\",\"outputs\":[{\"name\":\"\",\"type\":\"string\"}],\"payable\":false,\"stateMutability\":\"view\",\"type\":\"function\"}]')\n",
    "contract = web3.eth.contract(address=address, abi=abi)\n",
    "\n",
    "\n"
   ]
  },
  {
   "cell_type": "code",
   "execution_count": 2,
   "metadata": {},
   "outputs": [],
   "source": [
    "def transfer_ethers(to_ac,amt):\n",
    "    print(to_ac,amt)\n",
    "    account_1 = '0x94dD56666597a911BC62f9348534876899F2a253'\n",
    "    account_2 = to_ac\n",
    "    private_key = '0x83b2a81c071eb63ff66432c73b6c1c279b3c8159ce1edabe4e00848825f311ff'\n",
    "    nonce = web3.eth.getTransactionCount(account_1)\n",
    "    tx = {\n",
    "    'nonce': nonce,\n",
    "    'to': account_2,\n",
    "    'value': web3.toWei(amt, 'ether'),\n",
    "    'gas': 2000000,\n",
    "    'gasPrice': web3.toWei('2', 'gwei'),\n",
    "    }\n",
    "    signed_tx = web3.eth.account.signTransaction(tx, private_key)\n",
    "\n",
    "    tx_hash = web3.eth.sendRawTransaction(signed_tx.rawTransaction)\n",
    "\n",
    "    print(web3.toHex(tx_hash))"
   ]
  },
  {
   "cell_type": "code",
   "execution_count": 3,
   "metadata": {},
   "outputs": [],
   "source": [
    "def transfer_ethers1(from_ac, private_key, amt):\n",
    "    amt = float(amt)\n",
    "    account_2 = \"0x...\"  # Replace with destination address or make it dynamic\n",
    "    nonce = web3.eth.getTransactionCount(from_ac)\n",
    "    gas_price = web3.toWei('2', 'gwei')\n",
    "    gas = 21000\n",
    "\n",
    "    total_cost = web3.toWei(amt, 'ether') + gas * gas_price\n",
    "    balance = web3.eth.getBalance(from_ac)\n",
    "\n",
    "    if balance < total_cost:\n",
    "        print(f\"Insufficient funds: Balance = {web3.fromWei(balance, 'ether')} ETH, Needed = {web3.fromWei(total_cost, 'ether')} ETH\")\n",
    "        return\n",
    "\n",
    "    tx = {\n",
    "        'nonce': nonce,\n",
    "        'to': account_2,\n",
    "        'value': web3.toWei(amt, 'ether'),\n",
    "        'gas': gas,\n",
    "        'gasPrice': gas_price,\n",
    "    }\n",
    "\n",
    "    signed_tx = web3.eth.account.signTransaction(tx, private_key)\n",
    "    tx_hash = web3.eth.sendRawTransaction(signed_tx.rawTransaction)\n",
    "    receipt = web3.eth.waitForTransactionReceipt(tx_hash)\n",
    "    print(\"Transaction successful. Hash:\", web3.toHex(tx_hash))\n",
    "\n"
   ]
  },
  {
   "cell_type": "code",
   "execution_count": 4,
   "metadata": {},
   "outputs": [],
   "source": [
    "#transfer_ethers('0xd35Fd653C7dB083927CFFAd0b89e2CA60e23A23D','0xB708ac89224C9Be0E765946104A9Ad27Cf4b60bd','12f7afd302ad1504dff02cb40cedcbab196cb37407763cbecd0c25de82273e82',2)\n"
   ]
  },
  {
   "cell_type": "code",
   "execution_count": null,
   "metadata": {
    "scrolled": true
   },
   "outputs": [],
   "source": [
    "while True:\n",
    "    f=open('task.txt','r')\n",
    "    task=f.read()\n",
    "    f.close()\n",
    "    if task=='upload':\n",
    "        f=open('data.txt','r')\n",
    "        product_details=f.read()\n",
    "        f.close()\n",
    "        chain_data=contract.functions.get_data().call()\n",
    "        print(\"old data\",chain_data)\n",
    "        new_data=chain_data+\"%%@@\"+product_details\n",
    "        resp = contract.functions.set_data(new_data).transact()\n",
    "        web3.eth.waitForTransactionReceipt(resp)\n",
    "        print('resp=',resp)\n",
    "        \n",
    "        \n",
    "\n",
    "        f=open('task.txt','w')\n",
    "        f.write('')\n",
    "        f.close()\n",
    "    \n",
    "    if task=='download':\n",
    "        f=open('node_id.txt','r')\n",
    "        temp=f.read()\n",
    "        f.close()\n",
    "        \n",
    "        chain_data=contract.functions.get_data().call()\n",
    "        print(\"old data\",chain_data)\n",
    "        l=chain_data.split('%%@@')\n",
    "        details=''\n",
    "        \n",
    "       \n",
    "        f=open('task.txt','w')\n",
    "        f.write('')\n",
    "        f.close()\n",
    "        f=open('node_id.txt','w')\n",
    "        f.write(details)\n",
    "        f.close()\n",
    "    if task=='transfer':\n",
    "        f=open('users.txt','r')\n",
    "        users=f.read()\n",
    "        f.close()\n",
    "        u=users.split('#')\n",
    "        for i in u:\n",
    "            if i!='':\n",
    "                f=open(str(i)+'_accounts.txt','r')\n",
    "                ac_details=f.read()\n",
    "                f.close()\n",
    "                l=ac_details.split('#@')\n",
    "                transfer_ethers(l[0],l[2])\n",
    "        f=open('task.txt','w')\n",
    "        f.write('')\n",
    "        f.close()\n",
    "    if task=='transfer1':\n",
    "        f=open('user.txt','r')\n",
    "        user=f.read()\n",
    "        f.close()\n",
    "        u=user.split('#')\n",
    "        for i in u:\n",
    "            if i!='':\n",
    "                f=open(str(i)+'_accounts.txt','r')\n",
    "                ac_details=f.read()\n",
    "                f.close()\n",
    "                l=ac_details.split('#@')\n",
    "                transfer_ethers(l[0],l[2])\n",
    "        f=open('task.txt','w')\n",
    "        f.write('')\n",
    "        f.close()\n",
    "    if task=='transfer2':\n",
    "        f=open('fromuser.txt','r')\n",
    "        user=f.read()\n",
    "        f.close()\n",
    "        #u=user.split('#')\n",
    "        l=user.split('#@')\n",
    "        transfer_ethers1(l[0],l[1],l[2])\n",
    "        f=open('task.txt','w')\n",
    "        f.write('')\n",
    "        f.close()\n",
    "        \n",
    "                "
   ]
  },
  {
   "cell_type": "code",
   "execution_count": null,
   "metadata": {},
   "outputs": [],
   "source": []
  },
  {
   "cell_type": "code",
   "execution_count": null,
   "metadata": {},
   "outputs": [],
   "source": []
  },
  {
   "cell_type": "code",
   "execution_count": null,
   "metadata": {},
   "outputs": [],
   "source": []
  },
  {
   "cell_type": "code",
   "execution_count": null,
   "metadata": {},
   "outputs": [],
   "source": []
  },
  {
   "cell_type": "code",
   "execution_count": null,
   "metadata": {},
   "outputs": [],
   "source": []
  }
 ],
 "metadata": {
  "kernelspec": {
   "display_name": "Python [conda env:base] *",
   "language": "python",
   "name": "conda-base-py"
  },
  "language_info": {
   "codemirror_mode": {
    "name": "ipython",
    "version": 3
   },
   "file_extension": ".py",
   "mimetype": "text/x-python",
   "name": "python",
   "nbconvert_exporter": "python",
   "pygments_lexer": "ipython3",
   "version": "3.12.7"
  }
 },
 "nbformat": 4,
 "nbformat_minor": 4
}
